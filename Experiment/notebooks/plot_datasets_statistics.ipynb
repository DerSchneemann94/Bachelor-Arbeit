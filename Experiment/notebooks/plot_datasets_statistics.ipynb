{
 "cells": [
  {
   "cell_type": "code",
   "execution_count": 7,
   "id": "3df10855",
   "metadata": {
    "scrolled": true,
    "tags": []
   },
   "outputs": [
    {
     "ename": "IndexError",
     "evalue": "list index out of range",
     "output_type": "error",
     "traceback": [
      "\u001b[0;31m---------------------------------------------------------------------------\u001b[0m",
      "\u001b[0;31mIndexError\u001b[0m                                Traceback (most recent call last)",
      "Cell \u001b[0;32mIn[7], line 16\u001b[0m\n\u001b[1;32m     14\u001b[0m path \u001b[38;5;241m=\u001b[39m path_to_datasets_statistic \u001b[38;5;241m/\u001b[39m task_type\n\u001b[1;32m     15\u001b[0m dataset_statistic_paths \u001b[38;5;241m=\u001b[39m \u001b[38;5;28mlist\u001b[39m(path\u001b[38;5;241m.\u001b[39mrglob(\u001b[38;5;124m'\u001b[39m\u001b[38;5;124m*.txt\u001b[39m\u001b[38;5;124m'\u001b[39m))\n\u001b[0;32m---> 16\u001b[0m \u001b[38;5;28mprint\u001b[39m(\u001b[43mdataset_statistic_paths\u001b[49m\u001b[43m[\u001b[49m\u001b[38;5;241;43m1\u001b[39;49m\u001b[43m]\u001b[49m)\n",
      "\u001b[0;31mIndexError\u001b[0m: list index out of range"
     ]
    }
   ],
   "source": [
    "from pathlib import Path\n",
    "from utils import get_project_root\n",
    "\n",
    "root = get_project_root()\n",
    "path_to_datasets_statistic = root / \"src/Data/Datasets_identify/openml_statistics\"\n",
    "\n",
    "task_types = [\n",
    "    \"Binary-Classifikation\",\n",
    "    \"Multiple-Classification\",\n",
    "    \"Regression\"\n",
    "]\n",
    "\n",
    "for task_type in task_types:\n",
    "    path = path_to_datasets_statistic / task_type\n",
    "    dataset_statistic_paths = list(path.rglob('*.txt'))\n",
    "    print(dataset_statistic_paths[0])\n"
   ]
  },
  {
   "cell_type": "code",
   "execution_count": null,
   "id": "84ddce98-8c50-417c-b6d2-5b8750ca79e8",
   "metadata": {},
   "outputs": [],
   "source": []
  }
 ],
 "metadata": {
  "kernelspec": {
   "display_name": "Python 3 (ipykernel)",
   "language": "python",
   "name": "python3"
  },
  "language_info": {
   "codemirror_mode": {
    "name": "ipython",
    "version": 3
   },
   "file_extension": ".py",
   "mimetype": "text/x-python",
   "name": "python",
   "nbconvert_exporter": "python",
   "pygments_lexer": "ipython3",
   "version": "3.8.16"
  }
 },
 "nbformat": 4,
 "nbformat_minor": 5
}
